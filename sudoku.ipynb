{
 "cells": [
  {
   "cell_type": "markdown",
   "metadata": {},
   "source": [
    "## Sudoku Constraint Propagation Solver\n",
    "> In this notebook we demonstrate solving Sudoku puzzles using constraint propagation.\n",
    "\n",
    "### Rules of Sudoku\n",
    "> A Sudoku board consists of 81 squares, some of which are initially ﬁlled with digits from 1 to 9. \n",
    "![Sudoku rules](images/sudoku_initial.png)\n",
    "\n",
    "\n",
    ">The objective of the puzzle  is to ﬁll in all the remaining squares in such a way that no digit appears twice in any row, column, or 3×3 box. There are 9 rows, 9 columns and 9 3x3 boxes. We define a row, column, and 3x3 box as a unit.\n",
    "\n",
    "![Sudoku rules](images/sudoku_rules.png)\n",
    "\n",
    "\n",
    "> A solution for board above would be as following:\n",
    "\n",
    "![Sudoku rules](images/sudoku_solved.png)\n",
    "\n",
    "> There are other variations of Sudoku such as that the diagonals must not contain a digit more than once.  Our implementation of Sudoku includes an option to also include the diagonals as a constraint unit."
   ]
  },
  {
   "cell_type": "markdown",
   "metadata": {},
   "source": [
    "### 1) Import sudoku module\n",
    "\n",
    "> The `sudoku` module has a class called `Sudoku` to solve Sudoku puzzles. The `Sudoku` class inherits from the `ConstraintSolver` abstract base class.  The `Sudoku` class maintains a list of variables for each box and domain values 1 through 9.   The class defines global constraints for the Sudoku constraints groups (i.e. rows, columns and 3x3 boxes).\n",
    "\n",
    "> The `ConstraintSolver` abstract class defines two functions for reducing the problem using arc consistency and a function for searching for a solution when inference is not enough.\n",
    "\n",
    "> * \t The first reduction function is an elimination algorithm that removes any variable in the constraint that has a singleton domain and then removes that value from the domains of the remaining variables.  The second reduction function is an only-choice algorithm that assigns a value to a variable when that value does not fit in any of the other variables.\n",
    "\n",
    "\n",
    "> * The search function is a depth-first recursive method that attempts to find a solution by choosing the variable with the least remaining values in its domain. It then iteratively assigns to this variable one of its domain values, and  calls the reduction functions to try and find a solution.  If a solution is found it returns this solved state, otherwise it returns false.\n",
    "\n",
    "\n",
    "> * \tThe `ConstraintSolver` abstract class also has other properties and methods to take advantage of code reuse.  "
   ]
  },
  {
   "cell_type": "code",
   "execution_count": 1,
   "metadata": {},
   "outputs": [],
   "source": [
    "%load_ext autoreload\n",
    "%aimport sudoku\n",
    "%aimport solver\n",
    "%autoreload 1\n",
    "\n",
    "%matplotlib inline\n",
    "from sudoku import *"
   ]
  },
  {
   "cell_type": "code",
   "execution_count": 2,
   "metadata": {},
   "outputs": [
    {
     "name": "stdout",
     "output_type": "stream",
     "text": [
      "\n",
      "        Class for solving sudoku puzzle using constraint propagation.  \n",
      "        Inherits from 'ConstrainSolver' base class that uses 'elimination'\n",
      "        and 'only_choice' algorithms to solve constraint problems. \n",
      "\n",
      "        Parameter\n",
      "        ------------\n",
      "        grid: str\n",
      "            A string representing a sudoku grid.\n",
      "            Example board as string: '5.............62....1....7...6..8...3...9...7...6..4...4....8....52.............3' \n",
      "            The '.' represents a blank cell.  The first character represnts the top left most cell and\n",
      "            the second character the cell to the right of the top left most cell..etc.\n",
      "\n",
      "            Its corresponding board would be as follows:\n",
      "            5 . . |. . . |. . . \n",
      "            . . . |. . 6 |2 . . \n",
      "            . . 1 |. . . |. 7 . \n",
      "            ------+------+------\n",
      "            . . 6 |. . 8 |. . . \n",
      "            3 . . |. 9 . |. . 7 \n",
      "            . . . |6 . . |4 . . \n",
      "            ------+------+------\n",
      "            . 4 . |. . . |8 . . \n",
      "            . . 5 |2 . . |. . . \n",
      "            . . . |. . . |. . 3 \n",
      "\n",
      "        diagonal: bool [False]\n",
      "            Add diagonal boxes as a constraint.\n",
      "    \n"
     ]
    }
   ],
   "source": [
    "print(Sudoku.__doc__)"
   ]
  },
  {
   "cell_type": "markdown",
   "metadata": {},
   "source": [
    "### 2) Import list of puzzles\n",
    "> Here we import a list of Sudoku puzzles to test our `'Sudoku'` class"
   ]
  },
  {
   "cell_type": "code",
   "execution_count": 3,
   "metadata": {
    "scrolled": true
   },
   "outputs": [
    {
     "data": {
      "text/plain": [
       "['4.....8.5.3..........7......2.....6.....8.4......1.......6.3.7.5..2.....1.4......',\n",
       " '52...6.........7.13...........4..8..6......5...........418.........3..2...87.....',\n",
       " '6.....8.3.4.7.................5.4.7.3..2.....1.6.......2.....5.....8.6......1....',\n",
       " '48.3............71.2.......7.5....6....2..8.............1.76...3.....4......5....',\n",
       " '....14....3....2...7..........9...3.6.1.............8.2.....1.4....5.6.....7.8...']"
      ]
     },
     "execution_count": 3,
     "metadata": {},
     "output_type": "execute_result"
    }
   ],
   "source": [
    "boards = puzzles()\n",
    "boards[0:5]"
   ]
  },
  {
   "cell_type": "markdown",
   "metadata": {},
   "source": [
    "### 3) Solve one puzzle\n",
    "> Lets go through the process of solving one puzzle and display the board."
   ]
  },
  {
   "cell_type": "code",
   "execution_count": 4,
   "metadata": {
    "scrolled": true
   },
   "outputs": [
    {
     "data": {
      "image/png": "[encoded data removed]",
      "text/plain": [
       "<Figure size 432x288 with 1 Axes>"
      ]
     },
     "metadata": {},
     "output_type": "display_data"
    }
   ],
   "source": [
    "board1 = boards[0]\n",
    "sudoku1 = Sudoku(board1)\n",
    "\n",
    "#let display the initial board \n",
    "sudoku1.display_org()"
   ]
  },
  {
   "cell_type": "markdown",
   "metadata": {},
   "source": [
    "#### Display the pre-proccessed board\n",
    "> The initial board is pre-processed and we put 1 - 9 in all the spaces that are blank."
   ]
  },
  {
   "cell_type": "code",
   "execution_count": 5,
   "metadata": {},
   "outputs": [
    {
     "data": {
      "image/png": "[encoded data removed]",
      "text/plain": [
       "<Figure size 432x288 with 1 Axes>"
      ]
     },
     "metadata": {},
     "output_type": "display_data"
    }
   ],
   "source": [
    "sudoku1.display_state()"
   ]
  },
  {
   "cell_type": "markdown",
   "metadata": {},
   "source": [
    "#### Lets attempt to solve our puzzle\n",
    "> To solve we call the `'solve()'` method. "
   ]
  },
  {
   "cell_type": "code",
   "execution_count": 6,
   "metadata": {},
   "outputs": [
    {
     "name": "stdout",
     "output_type": "stream",
     "text": [
      "Puzzze was solved\n"
     ]
    },
    {
     "data": {
      "image/png": "[encoded data removed]",
      "text/plain": [
       "<Figure size 432x288 with 1 Axes>"
      ]
     },
     "metadata": {},
     "output_type": "display_data"
    },
    {
     "name": "stdout",
     "output_type": "stream",
     "text": [
      "The reduction functions  were called 5 time(s) and the search function was called 4 time(s).\n"
     ]
    }
   ],
   "source": [
    "solved = sudoku1.solve()\n",
    "print(\"Puzzze was solved\" if solved else \"Puzzle was not solved.\")\n",
    "sudoku1.display_state()\n",
    "\n",
    "#How many times did we call our reduction and search functions.  \n",
    "#The 'ConstraintSolver' base class has two reduction functions: elimination and only-choice.\n",
    "#The Sudoku class added one more reduction based on the naked twins algorithm.  \n",
    "# In total the 'Sudoku' class has three reduction functions.\n",
    "reduce_call_count = sudoku1.reduce_count\n",
    "search_call_count = sudoku1.search_count\n",
    "msg = \"The reduction functions  were called {} time(s) and the search function was called {} time(s).\"\n",
    "print(msg.format(reduce_call_count,search_call_count))"
   ]
  },
  {
   "cell_type": "markdown",
   "metadata": {},
   "source": [
    "### 4) Solve all the remaining puzzes\n",
    "> Now lets try and solve all the puzzles and display the results."
   ]
  },
  {
   "cell_type": "code",
   "execution_count": 7,
   "metadata": {
    "collapsed": true
   },
   "outputs": [],
   "source": [
    "import pandas as pd\n",
    "\n",
    "def solve_all(boards:list,verbose:int =1, diagonal:bool = False):\n",
    "    \"\"\" \"\"\"\n",
    "    board_name = []\n",
    "    result = []\n",
    "    reduce_call_count = []\n",
    "    search_call_count = []\n",
    "    \n",
    "    for idx, board in enumerate(boards,1):\n",
    "        puzzle = Sudoku(board,diagonal)\n",
    "        solved = puzzle.solve()\n",
    "        \n",
    "        if verbose ==1:\n",
    "            msg = \"Board {}: Result: {} Reduce count: {} Search count {}\"\n",
    "            print(msg.format(idx, solved, puzzle.reduce_count, puzzle.search_count))\n",
    "\n",
    "        #update lists\n",
    "        board_name.append(\"Board {}\".format(idx))\n",
    "        result.append(solved)\n",
    "        reduce_call_count.append(puzzle.reduce_count)\n",
    "        search_call_count.append(puzzle.search_count)\n",
    "    \n",
    "    #create dictionary table from lists\n",
    "    table = dict()\n",
    "    table['Board_Number'] = board_name\n",
    "    table['Result'] = result\n",
    "    table['Reduce Count'] = reduce_call_count\n",
    "    table['Search Count'] = search_call_count\n",
    "\n",
    "    #return dataframe\n",
    "    return pd.DataFrame(table)"
   ]
  },
  {
   "cell_type": "code",
   "execution_count": 8,
   "metadata": {
    "scrolled": false
   },
   "outputs": [
    {
     "name": "stdout",
     "output_type": "stream",
     "text": [
      "Board 1: Result: True Reduce count: 5 Search count 4\n",
      "Board 2: Result: True Reduce count: 37 Search count 19\n",
      "Board 3: Result: True Reduce count: 66 Search count 34\n",
      "Board 4: Result: True Reduce count: 179 Search count 87\n",
      "Board 5: Result: True Reduce count: 51 Search count 27\n",
      "Board 6: Result: True Reduce count: 73 Search count 35\n",
      "Board 7: Result: True Reduce count: 13 Search count 8\n",
      "Board 8: Result: True Reduce count: 7 Search count 5\n",
      "Board 9: Result: True Reduce count: 19 Search count 11\n",
      "Board 10: Result: True Reduce count: 203 Search count 101\n",
      "Board 11: Result: True Reduce count: 57 Search count 28\n",
      "Board 12: Result: True Reduce count: 77 Search count 40\n",
      "Board 13: Result: True Reduce count: 120 Search count 61\n",
      "Board 14: Result: True Reduce count: 95 Search count 47\n",
      "Board 15: Result: True Reduce count: 42 Search count 23\n",
      "Board 16: Result: True Reduce count: 4 Search count 2\n",
      "Board 17: Result: True Reduce count: 7 Search count 3\n",
      "Board 18: Result: True Reduce count: 2 Search count 1\n",
      "Board 19: Result: True Reduce count: 12 Search count 8\n",
      "Board 20: Result: True Reduce count: 40 Search count 21\n",
      "Board 21: Result: True Reduce count: 427 Search count 211\n",
      "Board 22: Result: True Reduce count: 3 Search count 2\n",
      "Board 23: Result: True Reduce count: 10 Search count 6\n",
      "Board 24: Result: True Reduce count: 64 Search count 34\n",
      "Board 25: Result: True Reduce count: 47 Search count 25\n",
      "Board 26: Result: True Reduce count: 26 Search count 14\n",
      "Board 27: Result: True Reduce count: 5 Search count 4\n",
      "Board 28: Result: True Reduce count: 30 Search count 16\n",
      "Board 29: Result: True Reduce count: 7 Search count 4\n",
      "Board 30: Result: True Reduce count: 52 Search count 26\n",
      "Board 31: Result: True Reduce count: 23 Search count 12\n",
      "Board 32: Result: True Reduce count: 29 Search count 15\n",
      "Board 33: Result: True Reduce count: 4 Search count 3\n",
      "Board 34: Result: True Reduce count: 43 Search count 21\n",
      "Board 35: Result: True Reduce count: 21 Search count 10\n",
      "Board 36: Result: True Reduce count: 34 Search count 17\n",
      "Board 37: Result: True Reduce count: 80 Search count 41\n",
      "Board 38: Result: True Reduce count: 10 Search count 6\n",
      "Board 39: Result: True Reduce count: 28 Search count 14\n",
      "Board 40: Result: True Reduce count: 6 Search count 3\n",
      "Board 41: Result: True Reduce count: 9 Search count 6\n",
      "Board 42: Result: True Reduce count: 78 Search count 38\n",
      "Board 43: Result: True Reduce count: 23 Search count 11\n",
      "Board 44: Result: True Reduce count: 32 Search count 17\n",
      "Board 45: Result: True Reduce count: 25 Search count 13\n",
      "Board 46: Result: True Reduce count: 34 Search count 17\n",
      "Board 47: Result: True Reduce count: 86 Search count 44\n",
      "Board 48: Result: True Reduce count: 13 Search count 7\n",
      "Board 49: Result: True Reduce count: 5 Search count 2\n",
      "Board 50: Result: True Reduce count: 60 Search count 30\n",
      "Board 51: Result: True Reduce count: 11 Search count 7\n",
      "Board 52: Result: True Reduce count: 28 Search count 16\n",
      "Board 53: Result: True Reduce count: 3 Search count 2\n",
      "Board 54: Result: True Reduce count: 21 Search count 11\n",
      "Board 55: Result: True Reduce count: 40 Search count 21\n",
      "Board 56: Result: True Reduce count: 36 Search count 19\n",
      "Board 57: Result: True Reduce count: 31 Search count 17\n",
      "Board 58: Result: True Reduce count: 8 Search count 7\n",
      "Board 59: Result: True Reduce count: 68 Search count 35\n",
      "Board 60: Result: True Reduce count: 13 Search count 7\n",
      "Board 61: Result: True Reduce count: 56 Search count 28\n",
      "Board 62: Result: True Reduce count: 63 Search count 32\n",
      "Board 63: Result: True Reduce count: 10 Search count 6\n",
      "Board 64: Result: True Reduce count: 47 Search count 24\n",
      "Board 65: Result: True Reduce count: 5 Search count 4\n",
      "Board 66: Result: True Reduce count: 67 Search count 36\n",
      "Board 67: Result: True Reduce count: 48 Search count 24\n",
      "Board 68: Result: True Reduce count: 65 Search count 34\n",
      "Board 69: Result: True Reduce count: 61 Search count 31\n",
      "Board 70: Result: True Reduce count: 17 Search count 8\n",
      "Board 71: Result: True Reduce count: 135 Search count 66\n",
      "Board 72: Result: True Reduce count: 11 Search count 6\n",
      "Board 73: Result: True Reduce count: 53 Search count 26\n",
      "Board 74: Result: True Reduce count: 9 Search count 6\n",
      "Board 75: Result: True Reduce count: 41 Search count 21\n",
      "Board 76: Result: True Reduce count: 48 Search count 25\n",
      "Board 77: Result: True Reduce count: 13 Search count 7\n",
      "Board 78: Result: True Reduce count: 9 Search count 6\n",
      "Board 79: Result: True Reduce count: 71 Search count 35\n",
      "Board 80: Result: True Reduce count: 13 Search count 6\n",
      "Board 81: Result: True Reduce count: 3 Search count 1\n",
      "Board 82: Result: True Reduce count: 18 Search count 9\n",
      "Board 83: Result: True Reduce count: 13 Search count 8\n",
      "Board 84: Result: True Reduce count: 22 Search count 12\n",
      "Board 85: Result: True Reduce count: 11 Search count 6\n",
      "Board 86: Result: True Reduce count: 4 Search count 3\n",
      "Board 87: Result: True Reduce count: 96 Search count 50\n",
      "Board 88: Result: True Reduce count: 9 Search count 6\n",
      "Board 89: Result: True Reduce count: 71 Search count 37\n",
      "Board 90: Result: True Reduce count: 4 Search count 3\n",
      "Board 91: Result: True Reduce count: 6 Search count 4\n",
      "Board 92: Result: True Reduce count: 57 Search count 29\n",
      "Board 93: Result: True Reduce count: 22 Search count 11\n",
      "Board 94: Result: True Reduce count: 19 Search count 9\n",
      "Board 95: Result: True Reduce count: 39 Search count 20\n",
      "Board 96: Result: True Reduce count: 11 Search count 5\n",
      "Board 97: Result: True Reduce count: 20 Search count 11\n",
      "Board 98: Result: True Reduce count: 3 Search count 2\n",
      "Board 99: Result: True Reduce count: 19 Search count 10\n",
      "Board 100: Result: True Reduce count: 1 Search count 0\n",
      "Board 101: Result: True Reduce count: 22 Search count 13\n",
      "Board 102: Result: True Reduce count: 4 Search count 2\n",
      "Board 103: Result: True Reduce count: 5 Search count 3\n",
      "Board 104: Result: True Reduce count: 4 Search count 2\n",
      "Board 105: Result: True Reduce count: 6 Search count 3\n",
      "Board 106: Result: True Reduce count: 16 Search count 9\n"
     ]
    }
   ],
   "source": [
    "tb = solve_all(boards)"
   ]
  },
  {
   "cell_type": "code",
   "execution_count": 9,
   "metadata": {},
   "outputs": [
    {
     "name": "stdout",
     "output_type": "stream",
     "text": [
      "Puzzles solved 106 out 106.\n",
      "----------------------------------------\n"
     ]
    },
    {
     "data": {
      "text/html": [
       "<div>\n",
       "<style scoped>\n",
       "    .dataframe tbody tr th:only-of-type {\n",
       "        vertical-align: middle;\n",
       "    }\n",
       "\n",
       "    .dataframe tbody tr th {\n",
       "        vertical-align: top;\n",
       "    }\n",
       "\n",
       "    .dataframe thead th {\n",
       "        text-align: right;\n",
       "    }\n",
       "</style>\n",
       "<table border=\"1\" class=\"dataframe\">\n",
       "  <thead>\n",
       "    <tr style=\"text-align: right;\">\n",
       "      <th></th>\n",
       "      <th>Reduce Count</th>\n",
       "      <th>Search Count</th>\n",
       "    </tr>\n",
       "  </thead>\n",
       "  <tbody>\n",
       "    <tr>\n",
       "      <th>count</th>\n",
       "      <td>106.000000</td>\n",
       "      <td>106.000000</td>\n",
       "    </tr>\n",
       "    <tr>\n",
       "      <th>mean</th>\n",
       "      <td>38.009434</td>\n",
       "      <td>19.575472</td>\n",
       "    </tr>\n",
       "    <tr>\n",
       "      <th>std</th>\n",
       "      <td>52.058300</td>\n",
       "      <td>25.664854</td>\n",
       "    </tr>\n",
       "    <tr>\n",
       "      <th>min</th>\n",
       "      <td>1.000000</td>\n",
       "      <td>0.000000</td>\n",
       "    </tr>\n",
       "    <tr>\n",
       "      <th>25%</th>\n",
       "      <td>9.000000</td>\n",
       "      <td>6.000000</td>\n",
       "    </tr>\n",
       "    <tr>\n",
       "      <th>50%</th>\n",
       "      <td>22.000000</td>\n",
       "      <td>11.500000</td>\n",
       "    </tr>\n",
       "    <tr>\n",
       "      <th>75%</th>\n",
       "      <td>51.750000</td>\n",
       "      <td>26.000000</td>\n",
       "    </tr>\n",
       "    <tr>\n",
       "      <th>max</th>\n",
       "      <td>427.000000</td>\n",
       "      <td>211.000000</td>\n",
       "    </tr>\n",
       "  </tbody>\n",
       "</table>\n",
       "</div>"
      ],
      "text/plain": [
       "       Reduce Count  Search Count\n",
       "count    106.000000    106.000000\n",
       "mean      38.009434     19.575472\n",
       "std       52.058300     25.664854\n",
       "min        1.000000      0.000000\n",
       "25%        9.000000      6.000000\n",
       "50%       22.000000     11.500000\n",
       "75%       51.750000     26.000000\n",
       "max      427.000000    211.000000"
      ]
     },
     "execution_count": 9,
     "metadata": {},
     "output_type": "execute_result"
    },
    {
     "data": {
      "image/png": "[encoded data removed]",
      "text/plain": [
       "<Figure size 432x288 with 2 Axes>"
      ]
     },
     "metadata": {},
     "output_type": "display_data"
    }
   ],
   "source": [
    "#percent was solve\n",
    "solve_count = len(tb[tb['Result'] == True])\n",
    "print(\"Puzzles solved {} out {}.\".format(solve_count,len(tb)))\n",
    "print(\"-\"*40)\n",
    "\n",
    "#print historgrams\n",
    "tb[['Reduce Count','Search Count']].hist()\n",
    "\n",
    "#print stats\n",
    "tb[['Reduce Count','Search Count']].describe()"
   ]
  },
  {
   "cell_type": "markdown",
   "metadata": {},
   "source": [
    "#### Solve all puzzles but diagonal constraint\n",
    "> Lets try and solve  all boards and enforce a diagonal constraint."
   ]
  },
  {
   "cell_type": "code",
   "execution_count": 10,
   "metadata": {
    "scrolled": false
   },
   "outputs": [
    {
     "name": "stdout",
     "output_type": "stream",
     "text": [
      "Board 1: Result: False Reduce count: 1 Search count 0\n",
      "Board 2: Result: False Reduce count: 1 Search count 0\n",
      "Board 3: Result: False Reduce count: 5 Search count 2\n",
      "Board 4: Result: False Reduce count: 1 Search count 0\n",
      "Board 5: Result: False Reduce count: 7 Search count 3\n",
      "Board 6: Result: False Reduce count: 1 Search count 0\n",
      "Board 7: Result: False Reduce count: 1 Search count 0\n",
      "Board 8: Result: False Reduce count: 1 Search count 0\n",
      "Board 9: Result: False Reduce count: 1 Search count 0\n",
      "Board 10: Result: False Reduce count: 30 Search count 14\n",
      "Board 11: Result: False Reduce count: 1 Search count 0\n",
      "Board 12: Result: False Reduce count: 1 Search count 0\n",
      "Board 13: Result: False Reduce count: 1 Search count 0\n",
      "Board 14: Result: False Reduce count: 1 Search count 0\n",
      "Board 15: Result: False Reduce count: 1 Search count 0\n",
      "Board 16: Result: False Reduce count: 1 Search count 0\n",
      "Board 17: Result: False Reduce count: 1 Search count 0\n",
      "Board 18: Result: False Reduce count: 1 Search count 0\n",
      "Board 19: Result: False Reduce count: 1 Search count 0\n",
      "Board 20: Result: False Reduce count: 1 Search count 0\n",
      "Board 21: Result: False Reduce count: 1 Search count 0\n",
      "Board 22: Result: False Reduce count: 1 Search count 0\n",
      "Board 23: Result: False Reduce count: 1 Search count 0\n",
      "Board 24: Result: False Reduce count: 1 Search count 0\n",
      "Board 25: Result: False Reduce count: 1 Search count 0\n",
      "Board 26: Result: False Reduce count: 1 Search count 0\n",
      "Board 27: Result: False Reduce count: 1 Search count 0\n",
      "Board 28: Result: False Reduce count: 1 Search count 0\n",
      "Board 29: Result: False Reduce count: 1 Search count 0\n",
      "Board 30: Result: False Reduce count: 1 Search count 0\n",
      "Board 31: Result: False Reduce count: 1 Search count 0\n",
      "Board 32: Result: False Reduce count: 1 Search count 0\n",
      "Board 33: Result: False Reduce count: 1 Search count 0\n",
      "Board 34: Result: False Reduce count: 17 Search count 7\n",
      "Board 35: Result: False Reduce count: 1 Search count 0\n",
      "Board 36: Result: False Reduce count: 1 Search count 0\n",
      "Board 37: Result: False Reduce count: 1 Search count 0\n",
      "Board 38: Result: False Reduce count: 1 Search count 0\n",
      "Board 39: Result: False Reduce count: 1 Search count 0\n",
      "Board 40: Result: False Reduce count: 1 Search count 0\n",
      "Board 41: Result: False Reduce count: 1 Search count 0\n",
      "Board 42: Result: False Reduce count: 1 Search count 0\n",
      "Board 43: Result: False Reduce count: 1 Search count 0\n",
      "Board 44: Result: False Reduce count: 1 Search count 0\n",
      "Board 45: Result: False Reduce count: 1 Search count 0\n",
      "Board 46: Result: False Reduce count: 1 Search count 0\n",
      "Board 47: Result: False Reduce count: 1 Search count 0\n",
      "Board 48: Result: False Reduce count: 1 Search count 0\n",
      "Board 49: Result: False Reduce count: 1 Search count 0\n",
      "Board 50: Result: False Reduce count: 1 Search count 0\n",
      "Board 51: Result: False Reduce count: 1 Search count 0\n",
      "Board 52: Result: False Reduce count: 1 Search count 0\n",
      "Board 53: Result: False Reduce count: 1 Search count 0\n",
      "Board 54: Result: False Reduce count: 1 Search count 0\n",
      "Board 55: Result: False Reduce count: 1 Search count 0\n",
      "Board 56: Result: False Reduce count: 1 Search count 0\n",
      "Board 57: Result: False Reduce count: 1 Search count 0\n",
      "Board 58: Result: False Reduce count: 1 Search count 0\n",
      "Board 59: Result: False Reduce count: 1 Search count 0\n",
      "Board 60: Result: False Reduce count: 1 Search count 0\n",
      "Board 61: Result: False Reduce count: 1 Search count 0\n",
      "Board 62: Result: False Reduce count: 1 Search count 0\n",
      "Board 63: Result: False Reduce count: 1 Search count 0\n",
      "Board 64: Result: False Reduce count: 1 Search count 0\n",
      "Board 65: Result: False Reduce count: 1 Search count 0\n",
      "Board 66: Result: False Reduce count: 1 Search count 0\n",
      "Board 67: Result: False Reduce count: 1 Search count 0\n",
      "Board 68: Result: False Reduce count: 1 Search count 0\n",
      "Board 69: Result: False Reduce count: 1 Search count 0\n",
      "Board 70: Result: False Reduce count: 1 Search count 0\n",
      "Board 71: Result: False Reduce count: 1 Search count 0\n",
      "Board 72: Result: False Reduce count: 1 Search count 0\n",
      "Board 73: Result: False Reduce count: 1 Search count 0\n",
      "Board 74: Result: False Reduce count: 1 Search count 0\n",
      "Board 75: Result: False Reduce count: 1 Search count 0\n",
      "Board 76: Result: False Reduce count: 1 Search count 0\n",
      "Board 77: Result: False Reduce count: 1 Search count 0\n",
      "Board 78: Result: False Reduce count: 1 Search count 0\n",
      "Board 79: Result: False Reduce count: 1 Search count 0\n",
      "Board 80: Result: False Reduce count: 3 Search count 1\n",
      "Board 81: Result: False Reduce count: 1 Search count 0\n",
      "Board 82: Result: False Reduce count: 1 Search count 0\n",
      "Board 83: Result: False Reduce count: 1 Search count 0\n",
      "Board 84: Result: False Reduce count: 1 Search count 0\n",
      "Board 85: Result: False Reduce count: 1 Search count 0\n",
      "Board 86: Result: False Reduce count: 1 Search count 0\n",
      "Board 87: Result: False Reduce count: 1 Search count 0\n",
      "Board 88: Result: False Reduce count: 1 Search count 0\n",
      "Board 89: Result: False Reduce count: 1 Search count 0\n",
      "Board 90: Result: False Reduce count: 1 Search count 0\n",
      "Board 91: Result: False Reduce count: 1 Search count 0\n",
      "Board 92: Result: False Reduce count: 1 Search count 0\n",
      "Board 93: Result: False Reduce count: 1 Search count 0\n",
      "Board 94: Result: False Reduce count: 1 Search count 0\n",
      "Board 95: Result: False Reduce count: 3 Search count 1\n",
      "Board 96: Result: False Reduce count: 1 Search count 0\n",
      "Board 97: Result: False Reduce count: 1 Search count 0\n",
      "Board 98: Result: False Reduce count: 1 Search count 0\n",
      "Board 99: Result: False Reduce count: 1 Search count 0\n",
      "Board 100: Result: False Reduce count: 1 Search count 0\n",
      "Board 101: Result: False Reduce count: 1 Search count 0\n",
      "Board 102: Result: False Reduce count: 1 Search count 0\n",
      "Board 103: Result: False Reduce count: 1 Search count 0\n",
      "Board 104: Result: False Reduce count: 1 Search count 0\n",
      "Board 105: Result: False Reduce count: 1 Search count 0\n",
      "Board 106: Result: False Reduce count: 7 Search count 3\n"
     ]
    }
   ],
   "source": [
    "tb2 = solve_all(boards,diagonal= True)"
   ]
  },
  {
   "cell_type": "code",
   "execution_count": 11,
   "metadata": {},
   "outputs": [
    {
     "name": "stdout",
     "output_type": "stream",
     "text": [
      "Puzzles solved 0 out 106 with diagonal.\n",
      "----------------------------------------\n"
     ]
    }
   ],
   "source": [
    "#percent solve with diagonal constraint\n",
    "solve_count = len(tb2[tb2['Result'] == True])\n",
    "print(\"Puzzles solved {} out {} with diagonal.\".format(solve_count,len(tb2)))\n",
    "print(\"-\"*40)"
   ]
  },
  {
   "cell_type": "markdown",
   "metadata": {},
   "source": [
    "#### Adding a diagonal constrain\n",
    "> When we add a diagonal constraint none of our boards are solveable and thats\n",
    "because these boards are not diagonal sudoku boards.  But now lets take a look\n",
    "at some diagonal sudoku boards."
   ]
  },
  {
   "cell_type": "code",
   "execution_count": 12,
   "metadata": {},
   "outputs": [
    {
     "name": "stdout",
     "output_type": "stream",
     "text": [
      "['..7431.......9...7.6.57..93..3.1.84...2..4...4......6.....5.1...4.....7.......5..', '....3......516.24..16.54..3.5.4...2.67..........6......9...678..2...9..........1.', '3..8.......97....6...5..1.9...1.....9......5..43.....2..56...1.7..4.....6..295.7.', '.......8......4................5...1..8.........2.98.7.6148.23..47..3.1..3.6.1.48', '..9..1.5.....96...5......9.84.3..91.......4.89.....3.......9.......58173.5..4....', '................47.37....21.....71.6........21.52......1.......562.9..3....36..18', '2..91.56.............5.....71.......94.....1......4297.23..5.7...7.43..2........5', '.2...4.195..6...8....1.9..6.3....5.4........1....5...8.....5.6...9...7......1789.', '7.198......2.3..8.59..4....81.3...........1...2............9.4....25......6.738.1', '..7..........8.6........79.9..348.1..1......8....679....6...523...67....49.......']\n"
     ]
    }
   ],
   "source": [
    "#import some diagonal sudoku boars\n",
    "diag_boards = puzzles_diagonal()\n",
    "print(diag_boards)"
   ]
  },
  {
   "cell_type": "code",
   "execution_count": 13,
   "metadata": {},
   "outputs": [
    {
     "name": "stdout",
     "output_type": "stream",
     "text": [
      "Lets solve the diagonal sudoku boards\n",
      "----------------------------------------\n",
      "Board 1: Result: True Reduce count: 6 Search count 4\n",
      "Board 2: Result: True Reduce count: 6 Search count 4\n",
      "Board 3: Result: True Reduce count: 5 Search count 4\n",
      "Board 4: Result: True Reduce count: 2 Search count 1\n",
      "Board 5: Result: True Reduce count: 5 Search count 3\n",
      "Board 6: Result: True Reduce count: 4 Search count 2\n",
      "Board 7: Result: True Reduce count: 5 Search count 3\n",
      "Board 8: Result: True Reduce count: 6 Search count 3\n",
      "Board 9: Result: True Reduce count: 7 Search count 3\n",
      "Board 10: Result: True Reduce count: 4 Search count 2\n",
      "\n",
      "\n",
      "Lets solve the diagonal sudoku boards and not enforce diagonal constraint\n",
      "----------------------------------------\n",
      "Board 1: Result: True Reduce count: 11 Search count 9\n",
      "Board 2: Result: True Reduce count: 14 Search count 13\n",
      "Board 3: Result: True Reduce count: 15 Search count 11\n",
      "Board 4: Result: True Reduce count: 15 Search count 14\n",
      "Board 5: Result: True Reduce count: 14 Search count 12\n",
      "Board 6: Result: True Reduce count: 18 Search count 16\n",
      "Board 7: Result: True Reduce count: 14 Search count 13\n",
      "Board 8: Result: True Reduce count: 12 Search count 10\n",
      "Board 9: Result: True Reduce count: 12 Search count 11\n",
      "Board 10: Result: True Reduce count: 10 Search count 9\n"
     ]
    }
   ],
   "source": [
    "print(\"Lets solve the diagonal sudoku boards\")\n",
    "print(\"-\"*40)\n",
    "_ = solve_all(diag_boards,diagonal=True)\n",
    "\n",
    "print(\"\\n\\nLets solve the diagonal sudoku boards and not enforce diagonal constraint\")\n",
    "print(\"-\"*40)\n",
    "_ = solve_all(diag_boards,diagonal=False)"
   ]
  }
 ],
 "metadata": {
  "kernelspec": {
   "display_name": "Python [conda env:cs]",
   "language": "python",
   "name": "conda-env-cs-py"
  },
  "language_info": {
   "codemirror_mode": {
    "name": "ipython",
    "version": 3
   },
   "file_extension": ".py",
   "mimetype": "text/x-python",
   "name": "python",
   "nbconvert_exporter": "python",
   "pygments_lexer": "ipython3",
   "version": "3.5.5"
  }
 },
 "nbformat": 4,
 "nbformat_minor": 2
}
